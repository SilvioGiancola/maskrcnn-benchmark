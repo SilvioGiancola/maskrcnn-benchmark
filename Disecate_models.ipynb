{
 "cells": [
  {
   "cell_type": "code",
   "execution_count": 2,
   "metadata": {},
   "outputs": [],
   "source": [
    "import torch"
   ]
  },
  {
   "cell_type": "code",
   "execution_count": null,
   "metadata": {},
   "outputs": [],
   "source": [
    "# This script analyse the convergences of all models, in number of iterations"
   ]
  },
  {
   "cell_type": "code",
   "execution_count": 3,
   "metadata": {},
   "outputs": [],
   "source": [
    "# import os\n",
    "# import shutil\n",
    "\n",
    "# for strategy in [1, 2]:\n",
    "\n",
    "#     for method in [\"R_50_C4_1x\", \"R_50_FPN_1x\", \"R_101_FPN_1x\", \"X_101_32x8d_FPN_1x\"]:\n",
    "\n",
    "#         pre=\"_pre\"\n",
    "#         for i in range(1,30):\n",
    "#             import shutil\n",
    "\n",
    "\n",
    "#             path = f\"/media/giancos/Football/CloudLabeling/Seeds_Striga_Strategy{strategy}/output/{method}_pre_{i}/model_final.pth\"\n",
    "            \n",
    "#             if os.path.exists(path):\n",
    "            \n",
    "#                 shutil.copy(path,path.replace(\"model_bestval.pth\",\"model_final_bad.pth\"))"
   ]
  },
  {
   "cell_type": "code",
   "execution_count": null,
   "metadata": {},
   "outputs": [],
   "source": []
  },
  {
   "cell_type": "code",
   "execution_count": 4,
   "metadata": {},
   "outputs": [],
   "source": [
    "# from collections import OrderedDict\n",
    "\n",
    "\n",
    "# for strategy in [1,2]:\n",
    "\n",
    "# #     for method in [\"R_50_C4_1x\"]: #, \"R_50_FPN_1x\", \"R_101_FPN_1x\", \"X_101_32x8d_FPN_1x\"]:\n",
    "#     for method in [\"R_50_C4_1x\", \"R_50_FPN_1x\", \"R_101_FPN_1x\", \"X_101_32x8d_FPN_1x\"]:\n",
    "#         pre=\"_pre\"\n",
    "# #         for i in range(1,30):\n",
    "#         for i in range(1,30):\n",
    "\n",
    "\n",
    "#             path = f\"/media/giancos/Football/CloudLabeling/Seeds_Striga_Strategy{strategy}/output/{method}_pre_{i}/model_bestval_bad.pth\"\n",
    "            \n",
    "#             if not os.path.exists(path):\n",
    "#                 continue\n",
    "#             print(path)\n",
    "                \n",
    "#             dict_model = torch.load(path)\n",
    "\n",
    "#             model = dict_model['model']\n",
    "\n",
    "#             for key in model:\n",
    "\n",
    "#                 if(\"roi_heads.box.predictor.cls_score\" in key):\n",
    "#                     print(\"key\", key)\n",
    "\n",
    "#                 if(\"roi_heads.box.predictor.bbox_pred\" in key):\n",
    "#                     print(\"key\", key)\n",
    "                    \n",
    "                    \n",
    "#             model = OrderedDict([('roi_heads.box.predictor.cls_score.weight', v) if k == 'roi_heads.box.predictor.cls_score_mine.weight' else (k, v) for k, v in model.items()])\n",
    "#             model = OrderedDict([('roi_heads.box.predictor.cls_score.bias', v) if k == 'roi_heads.box.predictor.cls_score_mine.bias' else (k, v) for k, v in model.items()])\n",
    "#             model = OrderedDict([('roi_heads.box.predictor.bbox_pred.weight', v) if k == 'roi_heads.box.predictor.bbox_pred_mine.weight' else (k, v) for k, v in model.items()])\n",
    "#             model = OrderedDict([('roi_heads.box.predictor.bbox_pred.bias', v) if k == 'roi_heads.box.predictor.bbox_pred_mine.bias' else (k, v) for k, v in model.items()])\n",
    "\n",
    "#             model = OrderedDict([('roi_heads.box.predictor.cls_score.weight', v) if k == 'roi_heads.box.predictor.cls_score_oro.weight' else (k, v) for k, v in model.items()])\n",
    "#             model = OrderedDict([('roi_heads.box.predictor.cls_score.bias', v) if k == 'roi_heads.box.predictor.cls_score_oro.bias' else (k, v) for k, v in model.items()])\n",
    "#             model = OrderedDict([('roi_heads.box.predictor.bbox_pred.weight', v) if k == 'roi_heads.box.predictor.bbox_pred_oro.weight' else (k, v) for k, v in model.items()])\n",
    "#             model = OrderedDict([('roi_heads.box.predictor.bbox_pred.bias', v) if k == 'roi_heads.box.predictor.bbox_pred_oro.bias' else (k, v) for k, v in model.items()])\n",
    "\n",
    "#             for key in model:\n",
    "\n",
    "#                 if(\"roi_heads.box.predictor.cls_score\" in key):\n",
    "#                     print(\"key\", key)\n",
    "\n",
    "#                 if(\"roi_heads.box.predictor.bbox_pred\" in key):\n",
    "#                     print(\"key\", key)\n",
    "                    \n",
    "#             dict_model['model'] = model\n",
    "#             new_path = path.replace(\"model_bestval_bad.pth\",\"model_bestval.pth\")\n",
    "#             torch.save(dict_model, new_path)\n",
    "\n",
    "# #             torch.load(path)\n",
    "#             #         new_key = key.replace(\"cls_score_mine\", \"cls_score\")\n",
    "#             #         print(\"new\", new_key)\n",
    "#             #         model[new_key] = model.pop(key)\n",
    "\n",
    "\n",
    "#             #     if(\"roi_heads.box.predictor.pred_score\" in key):\n",
    "#             #         print(key)\n",
    "#             #         dict_model[key.replace(\"pred_score_mine\", \"pred_score_score\")] = dict_model.pop(key)"
   ]
  },
  {
   "cell_type": "code",
   "execution_count": 5,
   "metadata": {},
   "outputs": [
    {
     "name": "stderr",
     "output_type": "stream",
     "text": [
      "/home/giancos/anaconda3/envs/maskrcnn_benchmark/lib/python3.7/site-packages/numpy/core/fromnumeric.py:3257: RuntimeWarning: Mean of empty slice.\n",
      "  out=out, **kwargs)\n",
      "/home/giancos/anaconda3/envs/maskrcnn_benchmark/lib/python3.7/site-packages/numpy/core/_methods.py:161: RuntimeWarning: invalid value encountered in double_scalars\n",
      "  ret = ret.dtype.type(ret / rcount)\n"
     ]
    },
    {
     "ename": "ValueError",
     "evalue": "zero-size array to reduction operation minimum which has no identity",
     "output_type": "error",
     "traceback": [
      "\u001b[0;31m---------------------------------------------------------------------------\u001b[0m",
      "\u001b[0;31mValueError\u001b[0m                                Traceback (most recent call last)",
      "\u001b[0;32m<ipython-input-5-d4f2e34d9da1>\u001b[0m in \u001b[0;36m<module>\u001b[0;34m\u001b[0m\n\u001b[1;32m     26\u001b[0m \u001b[0;34m\u001b[0m\u001b[0m\n\u001b[1;32m     27\u001b[0m \u001b[0;34m\u001b[0m\u001b[0m\n\u001b[0;32m---> 28\u001b[0;31m             \u001b[0mprint\u001b[0m\u001b[0;34m(\u001b[0m\u001b[0;34mf\"Seeds_Striga_Strategy{strategy}/output/{method}{pre} ({len(iteration)}): {np.mean(iteration):2.2f} [{np.min(iteration):2.2f},{np.max(iteration):2.2f}]\"\u001b[0m\u001b[0;34m)\u001b[0m\u001b[0;34m\u001b[0m\u001b[0;34m\u001b[0m\u001b[0m\n\u001b[0m\u001b[1;32m     29\u001b[0m \u001b[0;34m\u001b[0m\u001b[0m\n",
      "\u001b[0;32m<__array_function__ internals>\u001b[0m in \u001b[0;36mamin\u001b[0;34m(*args, **kwargs)\u001b[0m\n",
      "\u001b[0;32m~/anaconda3/envs/maskrcnn_benchmark/lib/python3.7/site-packages/numpy/core/fromnumeric.py\u001b[0m in \u001b[0;36mamin\u001b[0;34m(a, axis, out, keepdims, initial, where)\u001b[0m\n\u001b[1;32m   2744\u001b[0m     \"\"\"\n\u001b[1;32m   2745\u001b[0m     return _wrapreduction(a, np.minimum, 'min', axis, None, out,\n\u001b[0;32m-> 2746\u001b[0;31m                           keepdims=keepdims, initial=initial, where=where)\n\u001b[0m\u001b[1;32m   2747\u001b[0m \u001b[0;34m\u001b[0m\u001b[0m\n\u001b[1;32m   2748\u001b[0m \u001b[0;34m\u001b[0m\u001b[0m\n",
      "\u001b[0;32m~/anaconda3/envs/maskrcnn_benchmark/lib/python3.7/site-packages/numpy/core/fromnumeric.py\u001b[0m in \u001b[0;36m_wrapreduction\u001b[0;34m(obj, ufunc, method, axis, dtype, out, **kwargs)\u001b[0m\n\u001b[1;32m     88\u001b[0m                 \u001b[0;32mreturn\u001b[0m \u001b[0mreduction\u001b[0m\u001b[0;34m(\u001b[0m\u001b[0maxis\u001b[0m\u001b[0;34m=\u001b[0m\u001b[0maxis\u001b[0m\u001b[0;34m,\u001b[0m \u001b[0mout\u001b[0m\u001b[0;34m=\u001b[0m\u001b[0mout\u001b[0m\u001b[0;34m,\u001b[0m \u001b[0;34m**\u001b[0m\u001b[0mpasskwargs\u001b[0m\u001b[0;34m)\u001b[0m\u001b[0;34m\u001b[0m\u001b[0;34m\u001b[0m\u001b[0m\n\u001b[1;32m     89\u001b[0m \u001b[0;34m\u001b[0m\u001b[0m\n\u001b[0;32m---> 90\u001b[0;31m     \u001b[0;32mreturn\u001b[0m \u001b[0mufunc\u001b[0m\u001b[0;34m.\u001b[0m\u001b[0mreduce\u001b[0m\u001b[0;34m(\u001b[0m\u001b[0mobj\u001b[0m\u001b[0;34m,\u001b[0m \u001b[0maxis\u001b[0m\u001b[0;34m,\u001b[0m \u001b[0mdtype\u001b[0m\u001b[0;34m,\u001b[0m \u001b[0mout\u001b[0m\u001b[0;34m,\u001b[0m \u001b[0;34m**\u001b[0m\u001b[0mpasskwargs\u001b[0m\u001b[0;34m)\u001b[0m\u001b[0;34m\u001b[0m\u001b[0;34m\u001b[0m\u001b[0m\n\u001b[0m\u001b[1;32m     91\u001b[0m \u001b[0;34m\u001b[0m\u001b[0m\n\u001b[1;32m     92\u001b[0m \u001b[0;34m\u001b[0m\u001b[0m\n",
      "\u001b[0;31mValueError\u001b[0m: zero-size array to reduction operation minimum which has no identity"
     ]
    }
   ],
   "source": [
    "from collections import OrderedDict\n",
    "\n",
    "\n",
    "import numpy as np\n",
    "import os\n",
    "        \n",
    "# for strategy in [1]:\n",
    "for strategy in [1,2]:\n",
    "#     for method in [\"R_50_C4_1x\"]: #, \"R_50_FPN_1x\", \"R_101_FPN_1x\", \"X_101_32x8d_FPN_1x\"]:\n",
    "    for method in [\"R_50_C4_1x\", \"R_50_FPN_1x\", \"R_101_FPN_1x\", \"X_101_32x8d_FPN_1x\"]:\n",
    "#         for i in range(1,2):\n",
    "    \n",
    "    \n",
    "        for pretrain in [False,True]:\n",
    "            if pretrain:\n",
    "                pre=\"_pre\"\n",
    "            else:\n",
    "                pre=\"\"\n",
    "            iteration = []\n",
    "            for i in range(1,30):\n",
    "                path = f\"/media/giancos/Football/CloudLabeling/Seeds_Striga_Strategy{strategy}/output/{method}{pre}_{i}/model_bestval.pth\"\n",
    "                if not os.path.exists(path):\n",
    "                    continue\n",
    "                dict_model = torch.load(path,map_location=\"cpu\")\n",
    "                iteration.append(dict_model['iteration'])\n",
    "    \n",
    "    \n",
    "            print(f\"Seeds_Striga_Strategy{strategy}/output/{method}{pre} ({len(iteration)}): {np.mean(iteration):2.2f} [{np.min(iteration):2.2f},{np.max(iteration):2.2f}]\")\n",
    "\n"
   ]
  },
  {
   "cell_type": "code",
   "execution_count": 9,
   "metadata": {},
   "outputs": [
    {
     "name": "stdout",
     "output_type": "stream",
     "text": [
      "Seeds_Orobanche_Strategy2_finetuning_401010/output/R_50_C4_1x_pre (12): 328.33 [80.00,980.00]\n",
      "Seeds_Orobanche_Strategy2_scratch_401010/output/R_50_C4_1x_pre (12): 966.67 [700.00,1380.00]\n",
      "Seeds_Orobanche_Strategy2_finetuning_401010/output/R_50_FPN_1x_pre (18): 712.22 [400.00,1140.00]\n",
      "Seeds_Orobanche_Strategy2_scratch_401010/output/R_50_FPN_1x_pre (18): 1581.11 [1100.00,1980.00]\n",
      "Seeds_Orobanche_Strategy2_finetuning_401010/output/R_101_FPN_1x_pre (12): 443.33 [180.00,840.00]\n",
      "Seeds_Orobanche_Strategy2_scratch_401010/output/R_101_FPN_1x_pre (18): 1374.44 [880.00,1760.00]\n",
      "Seeds_Orobanche_Strategy2_finetuning_401010/output/X_101_32x8d_FPN_1x_pre (11): 445.45 [80.00,1040.00]\n",
      "Seeds_Orobanche_Strategy2_scratch_401010/output/X_101_32x8d_FPN_1x_pre (12): 728.33 [560.00,860.00]\n"
     ]
    }
   ],
   "source": [
    "from collections import OrderedDict\n",
    "\n",
    "\n",
    "import numpy as np\n",
    "import os\n",
    "        \n",
    "# for strategy in [1]:\n",
    "for strategy in [2]:\n",
    "#     for method in [\"R_50_C4_1x\"]: #, \"R_50_FPN_1x\", \"R_101_FPN_1x\", \"X_101_32x8d_FPN_1x\"]:\n",
    "    for method in [\"R_50_C4_1x\", \"R_50_FPN_1x\", \"R_101_FPN_1x\", \"X_101_32x8d_FPN_1x\"]:\n",
    "#         for i in range(1,2):\n",
    "    \n",
    "    \n",
    "        for pretrain in [False,True]:\n",
    "            if pretrain:\n",
    "                pre=\"_scratch\"\n",
    "            else:\n",
    "                pre=\"_finetuning\"\n",
    "            iteration = []\n",
    "            for i in range(1,30):\n",
    "                path = f\"/media/giancos/Football/CloudLabeling/Seeds_Orobanche_Strategy{strategy}{pre}_401010/output/{method}_pre_{i}/model_bestval.pth\"\n",
    "                if not os.path.exists(path):\n",
    "                    continue\n",
    "                dict_model = torch.load(path,map_location=\"cpu\")\n",
    "                iteration.append(dict_model['iteration'])\n",
    "    \n",
    "    \n",
    "            print(f\"Seeds_Orobanche_Strategy{strategy}{pre}_401010/output/{method}_pre ({len(iteration)}): {np.mean(iteration):2.2f} [{np.min(iteration):2.2f},{np.max(iteration):2.2f}]\")\n",
    "\n"
   ]
  },
  {
   "cell_type": "code",
   "execution_count": 10,
   "metadata": {},
   "outputs": [
    {
     "name": "stdout",
     "output_type": "stream",
     "text": [
      "Seeds_Orobanche_Strategy2_finetuning_201030/output/R_50_C4_1x_pre (18): 204.44 [80.00,560.00]\n",
      "Seeds_Orobanche_Strategy2_scratch_201030/output/R_50_C4_1x_pre (18): 762.22 [540.00,980.00]\n",
      "Seeds_Orobanche_Strategy2_finetuning_201030/output/R_50_FPN_1x_pre (15): 385.33 [200.00,720.00]\n",
      "Seeds_Orobanche_Strategy2_scratch_201030/output/R_50_FPN_1x_pre (16): 781.25 [600.00,1000.00]\n",
      "Seeds_Orobanche_Strategy2_finetuning_201030/output/R_101_FPN_1x_pre (15): 328.00 [100.00,760.00]\n",
      "Seeds_Orobanche_Strategy2_scratch_201030/output/R_101_FPN_1x_pre (15): 768.00 [580.00,960.00]\n",
      "Seeds_Orobanche_Strategy2_finetuning_201030/output/X_101_32x8d_FPN_1x_pre (18): 222.22 [60.00,500.00]\n",
      "Seeds_Orobanche_Strategy2_scratch_201030/output/X_101_32x8d_FPN_1x_pre (18): 478.89 [260.00,740.00]\n"
     ]
    }
   ],
   "source": [
    "from collections import OrderedDict\n",
    "\n",
    "\n",
    "import numpy as np\n",
    "import os\n",
    "        \n",
    "# for strategy in [1]:\n",
    "for strategy in [2]:\n",
    "#     for method in [\"R_50_C4_1x\"]: #, \"R_50_FPN_1x\", \"R_101_FPN_1x\", \"X_101_32x8d_FPN_1x\"]:\n",
    "    for method in [\"R_50_C4_1x\", \"R_50_FPN_1x\", \"R_101_FPN_1x\", \"X_101_32x8d_FPN_1x\"]:\n",
    "#         for i in range(1,2):\n",
    "    \n",
    "    \n",
    "        for pretrain in [False,True]:\n",
    "            if pretrain:\n",
    "                pre=\"_scratch\"\n",
    "            else:\n",
    "                pre=\"_finetuning\"\n",
    "            iteration = []\n",
    "            for i in range(1,30):\n",
    "                path = f\"/media/giancos/Football/CloudLabeling/Seeds_Orobanche_Strategy{strategy}{pre}_201030/output/{method}_pre_{i}/model_bestval.pth\"\n",
    "                if not os.path.exists(path):\n",
    "                    continue\n",
    "                dict_model = torch.load(path,map_location=\"cpu\")\n",
    "                iteration.append(dict_model['iteration'])\n",
    "    \n",
    "    \n",
    "            print(f\"Seeds_Orobanche_Strategy{strategy}{pre}_201030/output/{method}_pre ({len(iteration)}): {np.mean(iteration):2.2f} [{np.min(iteration):2.2f},{np.max(iteration):2.2f}]\")\n",
    "\n"
   ]
  },
  {
   "cell_type": "code",
   "execution_count": null,
   "metadata": {},
   "outputs": [],
   "source": []
  }
 ],
 "metadata": {
  "kernelspec": {
   "display_name": "Python [conda env:maskrcnn_benchmark]",
   "language": "python",
   "name": "conda-env-maskrcnn_benchmark-py"
  },
  "language_info": {
   "codemirror_mode": {
    "name": "ipython",
    "version": 3
   },
   "file_extension": ".py",
   "mimetype": "text/x-python",
   "name": "python",
   "nbconvert_exporter": "python",
   "pygments_lexer": "ipython3",
   "version": "3.7.5"
  }
 },
 "nbformat": 4,
 "nbformat_minor": 2
}

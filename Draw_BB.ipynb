{
 "cells": [
  {
   "cell_type": "code",
   "execution_count": 9,
   "metadata": {},
   "outputs": [
    {
     "name": "stdout",
     "output_type": "stream",
     "text": [
      "Loading weight from /media/giancos/Football/CloudLabeling_DS/CloudLabeling/Seeds_Striga_Strategy1//output/R_50_C4_1x_pre_19/model_bestval.pth.\n",
      "['__background__', 'Germinated', 'Non-germinated']\n",
      "Loading weight from /media/giancos/Football/CloudLabeling_DS/CloudLabeling/Seeds_Striga_Strategy2//output/R_50_C4_1x_pre_20/model_bestval.pth.\n",
      "['__background__', 'Radicle', 'Seed']\n"
     ]
    }
   ],
   "source": [
    "from tqdm import tqdm\n",
    "import cv2\n",
    "import numpy as np\n",
    "from demo.predictor import COCODemo\n",
    "from maskrcnn_benchmark.utils.env import setup_environment  # noqa F401 isort:skip\n",
    "\n",
    "from PIL import Image\n",
    "\n",
    "import argparse\n",
    "import os\n",
    "\n",
    "import torch\n",
    "\n",
    "from torchvision import transforms as T\n",
    "from torchvision.transforms import functional as F\n",
    "from maskrcnn_benchmark.config import cfg\n",
    "from maskrcnn_benchmark.data import make_data_loader\n",
    "from maskrcnn_benchmark.data.datasets import FolderDataset\n",
    "from maskrcnn_benchmark.engine.inference import inference\n",
    "from maskrcnn_benchmark.modeling.detector import build_detection_model\n",
    "from maskrcnn_benchmark.utils.checkpoint import DetectronCheckpointer\n",
    "from maskrcnn_benchmark.utils.collect_env import collect_env_info\n",
    "from maskrcnn_benchmark.utils.comm import synchronize, get_rank\n",
    "from maskrcnn_benchmark.utils.logger import setup_logger\n",
    "from maskrcnn_benchmark.utils.miscellaneous import mkdir\n",
    "from maskrcnn_benchmark.utils.imports import import_file\n",
    "\n",
    "# from predictor import Cococompute_prediction, select_top_predictions, Resize\n",
    "# Check if we can enable mixed-precision via apex.amp\n",
    "try:\n",
    "    from apex import amp\n",
    "except ImportError:\n",
    "    raise ImportError('Use APEX for mixed precision via apex.amp')\n",
    "\n",
    "\n",
    "model = \"R_50_C4_1x\"\n",
    "run = 19\n",
    "Results = {}\n",
    "\n",
    "config_file = f\"configs/e2e_faster_rcnn_{model}.yaml\" # args.config_file #\"../configs/caffe2/e2e_mask_rcnn_R_50_FPN_1x_caffe2.yaml\"\n",
    "\n",
    "model = \"R_50_C4_1x_pre\"\n",
    "# update the config options with the config file\n",
    "cfg.merge_from_file(config_file)\n",
    "# manual override some options\n",
    "cfg.merge_from_list([\"MODEL.DEVICE\", \"cpu\"])\n",
    "#     cfg.merge_from_list(args.opts)\n",
    "\n",
    "# cfg.DATASETS.DATA_DIR = data\n",
    "cfg.TEST.IMS_PER_BATCH = 1 \n",
    "cfg.TEST.DETECTIONS_PER_IMG = 200 \n",
    "cfg.MODEL.ROI_HEADS.DETECTIONS_PER_IMG = 200 \n",
    "cfg.MODEL.ROI_BOX_HEAD.NUM_CLASSES = 3 \n",
    "cfg.MODEL.RETINANET.NUM_CLASSES = 3 \n",
    "\n",
    "cfg.MODEL.ROI_HEADS.NMS = 0.1\n",
    "# print(cfg)\n",
    "    \n",
    "    \n",
    "    \n",
    "    \n",
    "    \n",
    "data = f\"/media/giancos/Football/CloudLabeling/Seeds_Striga_Strategy1/\"\n",
    "weight = f\"/media/giancos/Football/CloudLabeling_DS/CloudLabeling/Seeds_Striga_Strategy1/\"\n",
    "\n",
    "coco_demo = COCODemo(\n",
    "    cfg,\n",
    "    min_image_size=800,\n",
    "    confidence_threshold=0.5,\n",
    "    weight_loading=f\"{weight}/output/{model}_{run}/model_bestval.pth\"\n",
    ")\n",
    "\n",
    "dataset = FolderDataset(data, \"Testing\")\n",
    "COCODemo.CATEGORIES = dataset.CLASSES\n",
    "\n",
    "image, target, index = dataset[9]\n",
    "\n",
    "image = np.array(image)\n",
    "\n",
    "predictions = coco_demo.compute_prediction(image)\n",
    "\n",
    "Results.update({f\"Pred_G\": predictions[torch.nonzero(predictions.get_field(\"labels\") == 1).squeeze(1)]})\n",
    "Results.update({f\"Pred_NG\": predictions[torch.nonzero(predictions.get_field(\"labels\") == 2).squeeze(1)]})\n",
    "Results.update({f\"GT_G\": target[torch.nonzero(target.get_field(\"labels\") == 1).squeeze(1)]})\n",
    "Results.update({f\"GT_NG\": target[torch.nonzero(target.get_field(\"labels\") == 2).squeeze(1)]})\n",
    "    \n",
    "\n",
    "    \n",
    "    \n",
    "    \n",
    "    \n",
    "    \n",
    "\n",
    "data = f\"/media/giancos/Football/CloudLabeling/Seeds_Striga_Strategy2/\"\n",
    "weight = f\"/media/giancos/Football/CloudLabeling_DS/CloudLabeling/Seeds_Striga_Strategy2/\"\n",
    "run = 20\n",
    "\n",
    "coco_demo = COCODemo(\n",
    "    cfg,\n",
    "    min_image_size=800,\n",
    "    confidence_threshold=0.5,\n",
    "    weight_loading=f\"{weight}/output/{model}_{run}/model_bestval.pth\"\n",
    ")\n",
    "\n",
    "dataset = FolderDataset(data, \"Testing\")\n",
    "COCODemo.CATEGORIES = dataset.CLASSES\n",
    "\n",
    "image, target, index = dataset[9]\n",
    "\n",
    "image = np.array(image)\n",
    "\n",
    "predictions = coco_demo.compute_prediction(image)\n",
    "\n",
    "Results.update({f\"Pred_R\": predictions[torch.nonzero(predictions.get_field(\"labels\") == 1).squeeze(1)]})\n",
    "Results.update({f\"Pred_S\": predictions[torch.nonzero(predictions.get_field(\"labels\") == 2).squeeze(1)]})\n",
    "Results.update({f\"GT_R\": target[torch.nonzero(target.get_field(\"labels\") == 1).squeeze(1)]})\n",
    "Results.update({f\"GT_S\": target[torch.nonzero(target.get_field(\"labels\") == 2).squeeze(1)]})\n",
    "    \n"
   ]
  },
  {
   "cell_type": "code",
   "execution_count": 10,
   "metadata": {},
   "outputs": [
    {
     "name": "stdout",
     "output_type": "stream",
     "text": [
      "dict_keys(['model', 'optimizer', 'scheduler', 'iteration'])\n",
      "torch.Size([3, 2048])\n"
     ]
    }
   ],
   "source": [
    "import torch\n",
    "\n",
    "weight_loading=f\"{weight}/output/{model}_{run}/model_bestval.pth\"\n",
    "weigths = torch.load(weight_loading,map_location=\"cpu\")\n",
    "print(weigths.keys())\n",
    "print(weigths['model']['roi_heads.box.predictor.cls_score.weight'].shape)"
   ]
  },
  {
   "cell_type": "code",
   "execution_count": 11,
   "metadata": {},
   "outputs": [
    {
     "name": "stdout",
     "output_type": "stream",
     "text": [
      "{'Pred_G': BoxList(num_boxes=41, image_width=2592, image_height=1944, mode=xyxy), 'Pred_NG': BoxList(num_boxes=32, image_width=2592, image_height=1944, mode=xyxy), 'GT_G': BoxList(num_boxes=44, image_width=2592, image_height=1944, mode=xyxy), 'GT_NG': BoxList(num_boxes=36, image_width=2592, image_height=1944, mode=xyxy), 'Pred_R': BoxList(num_boxes=50, image_width=2592, image_height=1944, mode=xyxy), 'Pred_S': BoxList(num_boxes=54, image_width=2592, image_height=1944, mode=xyxy), 'GT_R': BoxList(num_boxes=44, image_width=2592, image_height=1944, mode=xyxy), 'GT_S': BoxList(num_boxes=80, image_width=2592, image_height=1944, mode=xyxy)}\n"
     ]
    }
   ],
   "source": [
    "print(Results)"
   ]
  },
  {
   "cell_type": "code",
   "execution_count": 12,
   "metadata": {},
   "outputs": [
    {
     "name": "stdout",
     "output_type": "stream",
     "text": [
      "image139.jpg\n"
     ]
    }
   ],
   "source": [
    "\n",
    "image_name = dataset.img_files[index].split(\"/\")[-1]\n",
    "print(image_name)\n",
    "\n",
    "\n",
    "\n",
    "def createQualitative(image,keys, out, GT_only=False):\n",
    "    result = image.copy()\n",
    " \n",
    "    for key in keys:\n",
    "    #     key = keys[1]\n",
    "        # print(key)\n",
    "        labels = Results[key].get_field(\"labels\").tolist()\n",
    "        boxes = Results[key].bbox\n",
    "\n",
    "        color=[0.5]*3\n",
    "        if \"_G\" in key: color=[17, 172, 222]\n",
    "        if \"_NG\" in key: color=[32, 36, 143]\n",
    "        if \"_S\" in key: color=[234, 140, 95]\n",
    "        if \"_R\" in key: color=[134, 7, 3]\n",
    "        if \"GT_\" in key and not GT_only: color=[0,0,0]\n",
    "\n",
    "\n",
    "        for i_label, box in zip(labels, boxes):\n",
    "            box = box.to(torch.int64)\n",
    "            top_left, bottom_right = box[:2].tolist(), box[2:].tolist()\n",
    "            result = cv2.rectangle(\n",
    "                result, tuple(top_left), tuple(bottom_right), tuple(color), 5\n",
    "            )\n",
    "\n",
    "\n",
    "\n",
    "    result = Image.fromarray(result)\n",
    "    folder=f\"/home/giancos/Dropbox/Applicazioni/ShareLaTeX/SeedsResults/Qualitative/\"\n",
    "    # out = \"_\".join(keys) + \".jpg\" #\"Strat1.jpg\"\n",
    "    result.save(folder+out)\n",
    "    \n",
    "    \n",
    "createQualitative(image, [\"GT_G\",\"Pred_G\"], \"G_GT_Pred.jpg\")\n",
    "createQualitative(image, [\"GT_NG\",\"Pred_NG\"], \"NG_GT_Pred.jpg\")\n",
    "createQualitative(image, [\"GT_R\",\"Pred_R\"], \"R_GT_Pred.jpg\")\n",
    "createQualitative(image, [\"GT_S\",\"Pred_S\"], \"S_GT_Pred.jpg\")\n",
    "\n",
    "\n",
    "createQualitative(image, [\"Pred_R\",\"Pred_S\"], \"Pred_R_S.jpg\")\n",
    "createQualitative(image, [\"Pred_G\",\"Pred_NG\"], \"Pred_NG_G.jpg\")\n",
    "createQualitative(image, [\"GT_R\",\"GT_S\"], \"GT_R_S.jpg\",GT_only=True)\n",
    "createQualitative(image, [\"GT_G\",\"GT_NG\"], \"GT_NG_G.jpg\",GT_only=True)\n",
    "    "
   ]
  },
  {
   "cell_type": "code",
   "execution_count": null,
   "metadata": {},
   "outputs": [],
   "source": []
  },
  {
   "cell_type": "code",
   "execution_count": null,
   "metadata": {},
   "outputs": [],
   "source": []
  },
  {
   "cell_type": "code",
   "execution_count": null,
   "metadata": {},
   "outputs": [],
   "source": []
  },
  {
   "cell_type": "code",
   "execution_count": null,
   "metadata": {},
   "outputs": [],
   "source": []
  },
  {
   "cell_type": "code",
   "execution_count": null,
   "metadata": {},
   "outputs": [],
   "source": []
  },
  {
   "cell_type": "code",
   "execution_count": null,
   "metadata": {},
   "outputs": [],
   "source": []
  },
  {
   "cell_type": "code",
   "execution_count": null,
   "metadata": {},
   "outputs": [],
   "source": []
  },
  {
   "cell_type": "code",
   "execution_count": null,
   "metadata": {},
   "outputs": [],
   "source": []
  },
  {
   "cell_type": "code",
   "execution_count": null,
   "metadata": {},
   "outputs": [],
   "source": []
  },
  {
   "cell_type": "code",
   "execution_count": null,
   "metadata": {},
   "outputs": [],
   "source": []
  },
  {
   "cell_type": "code",
   "execution_count": null,
   "metadata": {},
   "outputs": [],
   "source": []
  }
 ],
 "metadata": {
  "kernelspec": {
   "display_name": "Python [conda env:maskrcnn_benchmark]",
   "language": "python",
   "name": "conda-env-maskrcnn_benchmark-py"
  },
  "language_info": {
   "codemirror_mode": {
    "name": "ipython",
    "version": 3
   },
   "file_extension": ".py",
   "mimetype": "text/x-python",
   "name": "python",
   "nbconvert_exporter": "python",
   "pygments_lexer": "ipython3",
   "version": "3.7.5"
  }
 },
 "nbformat": 4,
 "nbformat_minor": 2
}
